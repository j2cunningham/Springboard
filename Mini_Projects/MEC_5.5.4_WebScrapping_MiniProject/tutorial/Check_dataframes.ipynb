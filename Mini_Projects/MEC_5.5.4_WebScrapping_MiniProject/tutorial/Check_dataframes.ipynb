{
 "cells": [
  {
   "cell_type": "markdown",
   "metadata": {},
   "source": [
    "## Notebook to check if Scraped Page from CSS and XPATH Match"
   ]
  },
  {
   "cell_type": "code",
   "execution_count": 1,
   "metadata": {
    "ExecuteTime": {
     "end_time": "2020-07-14T04:48:29.200854Z",
     "start_time": "2020-07-14T04:48:28.759210Z"
    }
   },
   "outputs": [],
   "source": [
    "import pandas as pd"
   ]
  },
  {
   "cell_type": "code",
   "execution_count": 2,
   "metadata": {
    "ExecuteTime": {
     "end_time": "2020-07-14T04:50:43.540523Z",
     "start_time": "2020-07-14T04:50:43.418124Z"
    }
   },
   "outputs": [],
   "source": [
    "df_css = pd.read_json('./css-scraper-results.json')"
   ]
  },
  {
   "cell_type": "code",
   "execution_count": 3,
   "metadata": {
    "ExecuteTime": {
     "end_time": "2020-07-14T04:50:51.482822Z",
     "start_time": "2020-07-14T04:50:51.468587Z"
    }
   },
   "outputs": [
    {
     "data": {
      "text/html": [
       "<div>\n",
       "<style scoped>\n",
       "    .dataframe tbody tr th:only-of-type {\n",
       "        vertical-align: middle;\n",
       "    }\n",
       "\n",
       "    .dataframe tbody tr th {\n",
       "        vertical-align: top;\n",
       "    }\n",
       "\n",
       "    .dataframe thead th {\n",
       "        text-align: right;\n",
       "    }\n",
       "</style>\n",
       "<table border=\"1\" class=\"dataframe\">\n",
       "  <thead>\n",
       "    <tr style=\"text-align: right;\">\n",
       "      <th></th>\n",
       "      <th>title</th>\n",
       "      <th>link</th>\n",
       "      <th>desc</th>\n",
       "    </tr>\n",
       "  </thead>\n",
       "  <tbody>\n",
       "    <tr>\n",
       "      <th>0</th>\n",
       "      <td>An Introduction to Python</td>\n",
       "      <td>http://www.network-theory.co.uk/python/intro/</td>\n",
       "      <td>By Guido van Rossum, Fred L. Drake, Jr.; Netwo...</td>\n",
       "    </tr>\n",
       "    <tr>\n",
       "      <th>1</th>\n",
       "      <td>Data Structures and Algorithms with Object-Ori...</td>\n",
       "      <td>http://www.brpreiss.com/books/opus7/html/book....</td>\n",
       "      <td>The primary goal of this book is to promote ob...</td>\n",
       "    </tr>\n",
       "    <tr>\n",
       "      <th>2</th>\n",
       "      <td>Dive Into Python 3</td>\n",
       "      <td>http://www.diveintopython.net/</td>\n",
       "      <td>By Mark Pilgrim, Guide to Python 3 and its dif...</td>\n",
       "    </tr>\n",
       "    <tr>\n",
       "      <th>3</th>\n",
       "      <td>Foundations of Python Network Programming</td>\n",
       "      <td>http://rhodesmill.org/brandon/2011/foundations...</td>\n",
       "      <td>This book covers a wide range of topics. From ...</td>\n",
       "    </tr>\n",
       "    <tr>\n",
       "      <th>4</th>\n",
       "      <td>Free Python books</td>\n",
       "      <td>http://www.techbooksforfree.com/perlpython.shtml</td>\n",
       "      <td>Free Python books and tutorials.</td>\n",
       "    </tr>\n",
       "  </tbody>\n",
       "</table>\n",
       "</div>"
      ],
      "text/plain": [
       "                                               title  \\\n",
       "0                          An Introduction to Python   \n",
       "1  Data Structures and Algorithms with Object-Ori...   \n",
       "2                                 Dive Into Python 3   \n",
       "3          Foundations of Python Network Programming   \n",
       "4                                  Free Python books   \n",
       "\n",
       "                                                link  \\\n",
       "0      http://www.network-theory.co.uk/python/intro/   \n",
       "1  http://www.brpreiss.com/books/opus7/html/book....   \n",
       "2                     http://www.diveintopython.net/   \n",
       "3  http://rhodesmill.org/brandon/2011/foundations...   \n",
       "4   http://www.techbooksforfree.com/perlpython.shtml   \n",
       "\n",
       "                                                desc  \n",
       "0  By Guido van Rossum, Fred L. Drake, Jr.; Netwo...  \n",
       "1  The primary goal of this book is to promote ob...  \n",
       "2  By Mark Pilgrim, Guide to Python 3 and its dif...  \n",
       "3  This book covers a wide range of topics. From ...  \n",
       "4                   Free Python books and tutorials.  "
      ]
     },
     "execution_count": 3,
     "metadata": {},
     "output_type": "execute_result"
    }
   ],
   "source": [
    "df_css.head()"
   ]
  },
  {
   "cell_type": "code",
   "execution_count": 4,
   "metadata": {
    "ExecuteTime": {
     "end_time": "2020-07-14T04:51:46.591291Z",
     "start_time": "2020-07-14T04:51:46.581840Z"
    }
   },
   "outputs": [
    {
     "data": {
      "text/html": [
       "<div>\n",
       "<style scoped>\n",
       "    .dataframe tbody tr th:only-of-type {\n",
       "        vertical-align: middle;\n",
       "    }\n",
       "\n",
       "    .dataframe tbody tr th {\n",
       "        vertical-align: top;\n",
       "    }\n",
       "\n",
       "    .dataframe thead th {\n",
       "        text-align: right;\n",
       "    }\n",
       "</style>\n",
       "<table border=\"1\" class=\"dataframe\">\n",
       "  <thead>\n",
       "    <tr style=\"text-align: right;\">\n",
       "      <th></th>\n",
       "      <th>title</th>\n",
       "      <th>link</th>\n",
       "      <th>desc</th>\n",
       "    </tr>\n",
       "  </thead>\n",
       "  <tbody>\n",
       "    <tr>\n",
       "      <th>0</th>\n",
       "      <td>An Introduction to Python</td>\n",
       "      <td>http://www.network-theory.co.uk/python/intro/</td>\n",
       "      <td>By Guido van Rossum, Fred L. Drake, Jr.; Netwo...</td>\n",
       "    </tr>\n",
       "    <tr>\n",
       "      <th>1</th>\n",
       "      <td>Data Structures and Algorithms with Object-Ori...</td>\n",
       "      <td>http://www.brpreiss.com/books/opus7/html/book....</td>\n",
       "      <td>The primary goal of this book is to promote ob...</td>\n",
       "    </tr>\n",
       "    <tr>\n",
       "      <th>2</th>\n",
       "      <td>Dive Into Python 3</td>\n",
       "      <td>http://www.diveintopython.net/</td>\n",
       "      <td>By Mark Pilgrim, Guide to Python 3 and its dif...</td>\n",
       "    </tr>\n",
       "    <tr>\n",
       "      <th>3</th>\n",
       "      <td>Foundations of Python Network Programming</td>\n",
       "      <td>http://rhodesmill.org/brandon/2011/foundations...</td>\n",
       "      <td>This book covers a wide range of topics. From ...</td>\n",
       "    </tr>\n",
       "    <tr>\n",
       "      <th>4</th>\n",
       "      <td>Free Python books</td>\n",
       "      <td>http://www.techbooksforfree.com/perlpython.shtml</td>\n",
       "      <td>Free Python books and tutorials.</td>\n",
       "    </tr>\n",
       "  </tbody>\n",
       "</table>\n",
       "</div>"
      ],
      "text/plain": [
       "                                               title  \\\n",
       "0                          An Introduction to Python   \n",
       "1  Data Structures and Algorithms with Object-Ori...   \n",
       "2                                 Dive Into Python 3   \n",
       "3          Foundations of Python Network Programming   \n",
       "4                                  Free Python books   \n",
       "\n",
       "                                                link  \\\n",
       "0      http://www.network-theory.co.uk/python/intro/   \n",
       "1  http://www.brpreiss.com/books/opus7/html/book....   \n",
       "2                     http://www.diveintopython.net/   \n",
       "3  http://rhodesmill.org/brandon/2011/foundations...   \n",
       "4   http://www.techbooksforfree.com/perlpython.shtml   \n",
       "\n",
       "                                                desc  \n",
       "0  By Guido van Rossum, Fred L. Drake, Jr.; Netwo...  \n",
       "1  The primary goal of this book is to promote ob...  \n",
       "2  By Mark Pilgrim, Guide to Python 3 and its dif...  \n",
       "3  This book covers a wide range of topics. From ...  \n",
       "4                   Free Python books and tutorials.  "
      ]
     },
     "execution_count": 4,
     "metadata": {},
     "output_type": "execute_result"
    }
   ],
   "source": [
    "df_xpath = pd.read_json('./xpath-scraper-results.json')\n",
    "\n",
    "df_xpath.head()"
   ]
  },
  {
   "cell_type": "code",
   "execution_count": 10,
   "metadata": {
    "ExecuteTime": {
     "end_time": "2020-07-14T05:01:21.218288Z",
     "start_time": "2020-07-14T05:01:21.213680Z"
    }
   },
   "outputs": [],
   "source": [
    "df_check = pd.concat([df_css, df_xpath]).drop_duplicates(keep=False)"
   ]
  },
  {
   "cell_type": "code",
   "execution_count": 11,
   "metadata": {
    "ExecuteTime": {
     "end_time": "2020-07-14T05:01:21.430968Z",
     "start_time": "2020-07-14T05:01:21.425856Z"
    }
   },
   "outputs": [
    {
     "data": {
      "text/html": [
       "<div>\n",
       "<style scoped>\n",
       "    .dataframe tbody tr th:only-of-type {\n",
       "        vertical-align: middle;\n",
       "    }\n",
       "\n",
       "    .dataframe tbody tr th {\n",
       "        vertical-align: top;\n",
       "    }\n",
       "\n",
       "    .dataframe thead th {\n",
       "        text-align: right;\n",
       "    }\n",
       "</style>\n",
       "<table border=\"1\" class=\"dataframe\">\n",
       "  <thead>\n",
       "    <tr style=\"text-align: right;\">\n",
       "      <th></th>\n",
       "      <th>title</th>\n",
       "      <th>link</th>\n",
       "      <th>desc</th>\n",
       "    </tr>\n",
       "  </thead>\n",
       "  <tbody>\n",
       "  </tbody>\n",
       "</table>\n",
       "</div>"
      ],
      "text/plain": [
       "Empty DataFrame\n",
       "Columns: [title, link, desc]\n",
       "Index: []"
      ]
     },
     "execution_count": 11,
     "metadata": {},
     "output_type": "execute_result"
    }
   ],
   "source": [
    "df_check.head()"
   ]
  },
  {
   "cell_type": "markdown",
   "metadata": {},
   "source": [
    "From the above printed out dataframe, the two dataframes are identical"
   ]
  },
  {
   "cell_type": "code",
   "execution_count": null,
   "metadata": {},
   "outputs": [],
   "source": []
  }
 ],
 "metadata": {
  "kernelspec": {
   "display_name": "Python 3",
   "language": "python",
   "name": "python3"
  },
  "language_info": {
   "codemirror_mode": {
    "name": "ipython",
    "version": 3
   },
   "file_extension": ".py",
   "mimetype": "text/x-python",
   "name": "python",
   "nbconvert_exporter": "python",
   "pygments_lexer": "ipython3",
   "version": "3.7.3"
  },
  "latex_envs": {
   "LaTeX_envs_menu_present": true,
   "autoclose": false,
   "autocomplete": true,
   "bibliofile": "biblio.bib",
   "cite_by": "apalike",
   "current_citInitial": 1,
   "eqLabelWithNumbers": true,
   "eqNumInitial": 1,
   "hotkeys": {
    "equation": "Ctrl-E",
    "itemize": "Ctrl-I"
   },
   "labels_anchors": false,
   "latex_user_defs": false,
   "report_style_numbering": false,
   "user_envs_cfg": false
  },
  "toc": {
   "base_numbering": 1,
   "nav_menu": {},
   "number_sections": true,
   "sideBar": true,
   "skip_h1_title": false,
   "title_cell": "Table of Contents",
   "title_sidebar": "Contents",
   "toc_cell": false,
   "toc_position": {},
   "toc_section_display": true,
   "toc_window_display": true
  }
 },
 "nbformat": 4,
 "nbformat_minor": 2
}
